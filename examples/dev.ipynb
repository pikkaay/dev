{
 "cells": [
  {
   "cell_type": "code",
   "execution_count": 23,
   "metadata": {},
   "outputs": [],
   "source": [
    "import os\n",
    "# import pandas as pd\n",
    "import xml.etree.ElementTree as ET\n",
    "from functools import reduce\n",
    "# import numpy as np\n",
    "import urllib.parse"
   ]
  },
  {
   "cell_type": "code",
   "execution_count": 223,
   "metadata": {},
   "outputs": [],
   "source": [
    "%matplotlib inline\n",
    "from copy import deepcopy\n",
    "import numpy as np\n",
    "import pandas as pd\n",
    "from matplotlib import pyplot as plt\n",
    "from sklearn.cluster import KMeans"
   ]
  },
  {
   "cell_type": "code",
   "execution_count": null,
   "metadata": {},
   "outputs": [],
   "source": []
  },
  {
   "cell_type": "code",
   "execution_count": null,
   "metadata": {},
   "outputs": [],
   "source": []
  },
  {
   "cell_type": "code",
   "execution_count": null,
   "metadata": {},
   "outputs": [],
   "source": []
  },
  {
   "cell_type": "code",
   "execution_count": null,
   "metadata": {},
   "outputs": [],
   "source": []
  },
  {
   "cell_type": "code",
   "execution_count": null,
   "metadata": {},
   "outputs": [],
   "source": [
    "#################\n",
    "\n",
    "def train_test_split(path, split=0.9):\n",
    "    \"\"\"\n",
    "    Split data to train and test\n",
    "    \"\"\"\n",
    "    with open(path) as file:\n",
    "        lines = file.readlines()\n",
    "        \n",
    "    np.random.shuffle(lines)\n",
    "    \n",
    "    train = lines[:int(len(lines) * split)]\n",
    "    val = lines[len(training_data):]\n",
    "    return train, val"
   ]
  },
  {
   "cell_type": "code",
   "execution_count": null,
   "metadata": {},
   "outputs": [],
   "source": []
  },
  {
   "cell_type": "code",
   "execution_count": 230,
   "metadata": {},
   "outputs": [
    {
     "data": {
      "text/plain": [
       "<matplotlib.collections.PathCollection at 0x7fdf8ca75e80>"
      ]
     },
     "execution_count": 230,
     "metadata": {},
     "output_type": "execute_result"
    },
    {
     "data": {
      "image/png": "[encoded data removed]",
      "text/plain": [
       "<matplotlib.figure.Figure at 0x7fdf8eae1390>"
      ]
     },
     "metadata": {},
     "output_type": "display_data"
    }
   ],
   "source": [
    "################################\n",
    "'''\n",
    "Finding anchor boxes\n",
    "'''\n",
    "def get_anchors(path, num_anchors):\n",
    "    '''\n",
    "    Takes data and number of anchors required then returns anchor boxes\n",
    "    Parameters\n",
    "    ----------\n",
    "    path: string\n",
    "        path to labelled data in text forrmat\n",
    "    num_anchors: int\n",
    "        number of anchor boxes required\n",
    "    \n",
    "    Returns\n",
    "    -------\n",
    "    centroids : ndarray\n",
    "        array of anchor boxes\n",
    "    '''\n",
    "    with open(path) as f:\n",
    "        lines = f.readlines()\n",
    "    \n",
    "    boxData=[]\n",
    "    for line in lines:\n",
    "        line = line.split()\n",
    "        box = [int(x) for x in line[1:][0].split(',') if x != '']\n",
    "        boxData.append(box)\n",
    "    boxData = np.array(boxData)\n",
    "    \n",
    "    boxes_wh = boxData[...,2:4] - boxData[...,0:2]\n",
    "    \n",
    "    kmeans = KMeans(n_clusters=num_anchors)\n",
    "    \n",
    "    kmeans = kmeans.fit(boxes_wh)\n",
    "    centroids = kmeans.cluster_centers_\n",
    "    return centroids\n",
    "\n",
    "path = './data.txt'\n",
    "n = 9\n",
    "centroids = get_anchors(path, n)\n",
    "\n",
    "plt.figure(figsize=(10,10))\n",
    "plt.scatter(boxes_wh[...,0], boxes_wh[...,1], c='green', s=7)\n",
    "plt.scatter(centroids[...,0], centroids[...,1], c='red', s=25)"
   ]
  },
  {
   "cell_type": "code",
   "execution_count": 227,
   "metadata": {},
   "outputs": [
    {
     "data": {
      "text/plain": [
       "array([[ 271,  202],\n",
       "       [ 612,  382],\n",
       "       [1342, 1379],\n",
       "       [ 359,  244],\n",
       "       [1087,  791],\n",
       "       [ 586,  549],\n",
       "       [ 821,  477],\n",
       "       [ 450,  305],\n",
       "       [ 221,  127]])"
      ]
     },
     "execution_count": 227,
     "metadata": {},
     "output_type": "execute_result"
    }
   ],
   "source": [
    "centroids.astype(int)"
   ]
  },
  {
   "cell_type": "code",
   "execution_count": null,
   "metadata": {},
   "outputs": [],
   "source": []
  },
  {
   "cell_type": "code",
   "execution_count": null,
   "metadata": {},
   "outputs": [],
   "source": []
  },
  {
   "cell_type": "code",
   "execution_count": null,
   "metadata": {},
   "outputs": [],
   "source": [
    "#######################################\n",
    "'''\n",
    "Converting xml to text\n",
    "'''"
   ]
  },
  {
   "cell_type": "code",
   "execution_count": 27,
   "metadata": {},
   "outputs": [],
   "source": [
    "for im in os.listdir('./Data/images/'):\n",
    "    if im.endswith('.xml'):\n",
    "        print(im)"
   ]
  },
  {
   "cell_type": "code",
   "execution_count": 93,
   "metadata": {},
   "outputs": [],
   "source": [
    "path = './Data/images/'\n",
    "labels = ['macncheese']\n",
    "\n",
    "for im in os.listdir(path):\n",
    "    if im.endswith('.xml'):\n",
    "        im = os.path.join(path, im)\n",
    "        xml_list = []\n",
    "        line = []\n",
    "        tree = ET.parse(im)\n",
    "        root = tree.getroot()\n",
    "        \n",
    "        for member in root.findall('size'):\n",
    "            w = int(member[0].text)\n",
    "            h = int(member[1].text)\n",
    "        \n",
    "        im = im.rsplit( \".\", 1 )[ 0 ]+'.jpg'\n",
    "        im = urllib.parse.quote(im) # To handle space or special charecter in file name\n",
    "        line.append([im]) \n",
    "        \n",
    "        for member in root.findall('object'):\n",
    "            label = labels.index(member[0].text)\n",
    "            line.append([\n",
    "                     str(' '+ str(round(int(member[4][0].text)*w//int(root.find('size')[0].text),2))),\n",
    "                     round(int(member[4][1].text)*h//int(root.find('size')[1].text),2),\n",
    "                     round(int(member[4][2].text)*w//int(root.find('size')[0].text),2),\n",
    "                     round(int(member[4][3].text)*h//int(root.find('size')[1].text),2),\n",
    "                     label\n",
    "            ])\n",
    "        \n",
    "        line = reduce(lambda x,y: x+y,line)\n",
    "        with open ('data.txt', 'a') as fo:\n",
    "            fo.write(','.join([str(n) for n in line]))\n",
    "            fo.write(' \\n')"
   ]
  },
  {
   "cell_type": "code",
   "execution_count": 94,
   "metadata": {},
   "outputs": [],
   "source": [
    "with open('./data.txt') as f:\n",
    "        lines = f.readlines()"
   ]
  },
  {
   "cell_type": "code",
   "execution_count": 95,
   "metadata": {
    "scrolled": true
   },
   "outputs": [
    {
     "data": {
      "text/plain": [
       "['./Data/images/mac-and-cheese.jpg, 26,263,572,797,0 \\n',\n",
       " './Data/images/212948802_8666ee604c.jpg, 8,8,500,279,0 \\n',\n",
       " './Data/images/66046_640x428.jpg, 73,67,552,357,0 \\n',\n",
       " './Data/images/thumb_600.jpg, 7,5,590,589,0 \\n',\n",
       " './Data/images/3553276452_0915930a17.jpg, 1,15,388,284,0 \\n',\n",
       " './Data/images/dscf5377.jpg, 1303,744,2645,2123,0 \\n',\n",
       " './Data/images/66595-1-zoom.jpg, 135,80,397,199,0 \\n',\n",
       " './Data/images/2755589202_5309e9410a.jpg, 53,47,398,290,0 \\n',\n",
       " './Data/images/1253354606_2a367f0ea4.jpg, 57,66,428,347,0 \\n',\n",
       " './Data/images/Pumpkin-Pasta.jpg, 63,282,490,711,0 \\n',\n",
       " './Data/images/3001170276_3e0d7a9f43.jpg, 139,27,500,222,0 \\n',\n",
       " './Data/images/ad43da3c-1142-484c-947a-de74d0e0d416.jpg, 61,1,341,125,0 \\n',\n",
       " './Data/images/Southern-Mac-Cheese.jpg, 78,91,369,272,0 \\n',\n",
       " './Data/images/macaroni-cheese-rs-640874-x.jpg, 58,63,300,218,0 \\n',\n",
       " './Data/images/mac-and-cheese-for-one-image.jpg, 44,289,625,620,0 \\n',\n",
       " './Data/images/50-BEST-Kids-Lunch-and-Snack-Ideas-19.jpg, 43,170,705,907,0 \\n',\n",
       " './Data/images/macaroni-cheese-master768.jpg, 196,40,669,239,0 \\n',\n",
       " './Data/images/20121009-mac-n-cheese-bowl-lowfat-4.jpg, 70,48,535,243,0 \\n',\n",
       " './Data/images/2909020041_7c46d3d4d3.jpg, 43,69,337,278,0 \\n',\n",
       " './Data/images/vegan%20shells%20mac%20and%20cheese%202%5B7%5D.jpg, 1,65,400,319,0 \\n',\n",
       " './Data/images/FRZ4YCQIGSBKGH2.MEDIUM.jpg, 161,136,410,387,0 \\n',\n",
       " './Data/images/6FDfYvWRFuNVUOxKShsR_crockpot%20mac%20and%20cheese%20%282%20of%204%29.jpg, 21,103,342,284,0 \\n',\n",
       " './Data/images/4198821240_cbe5e8c63b.jpg, 29,31,480,347,0 \\n',\n",
       " './Data/images/103685735_2aa24be930.jpg, 55,47,299,316,0 \\n',\n",
       " './Data/images/3022958512_9cce5ff4d5.jpg, 136,124,388,303,0 \\n',\n",
       " './Data/images/Easy-Shells-and-Cheese-labeled.jpg, 40,200,376,347,0 \\n',\n",
       " './Data/images/Quick-Shells-and-Cheese-labeled.jpg, 51,201,464,479,0 \\n',\n",
       " './Data/images/179995429_65f1c7d0a3.jpg, 204,124,500,373,0 \\n',\n",
       " './Data/images/3162303155_312704bc3a.jpg, 26,1,377,249,0 \\n',\n",
       " './Data/images/Midwest-Macaroni-and-Cheese-Recipe.jpg, 24,79,424,276,0 \\n',\n",
       " './Data/images/one-pot-macaroni-cheese-11-620x616.jpg, 6,59,620,573,0 \\n',\n",
       " './Data/images/2292821189_64cc5d5d52.jpg, 33,50,462,272,0 \\n',\n",
       " './Data/images/Mac_Cheese_vert.jpg, 56,158,277,356,0 \\n',\n",
       " './Data/images/20121009-mac-n-cheese-bowl-trad-4.jpg, 86,50,518,294,0 \\n',\n",
       " './Data/images/JWYBZJMdS2uM1SwQaI7Q_stovetop-macaroni-cheese-8831.jpg, 112,146,388,399,0 \\n',\n",
       " './Data/images/baked-macaroni-cheese-08-18-57bbb6bc3df78c876365e361.jpg, 102,41,1264,916,0 \\n',\n",
       " './Data/images/Betty%20Crockers%20Family%20Favorite%20Macaroni%20and%20Cheese.jpg, 4,29,350,276,0 \\n',\n",
       " './Data/images/mac%2Band%2Bcheese61.jpg, 1,200,249,306,0 \\n',\n",
       " './Data/images/Still_3_170213_Stove_Top_Mac_Cheese.jpg, 28,215,664,559,0 \\n',\n",
       " './Data/images/4184355025_84b5438658.jpg, 2,78,370,375,0 \\n',\n",
       " './Data/images/kraft%20macaroni%20and%20cheese.jpg, 101,198,251,312,0 \\n',\n",
       " './Data/images/Miracle%20Mac%20front.jpg, 99,71,546,406,0 \\n',\n",
       " './Data/images/TP07_camping_recipe_macncheese_article.jpg, 27,190,461,588,0 \\n',\n",
       " './Data/images/Still_1_One_Pot_Mac_Cheese.jpg, 1,155,577,595,0 \\n',\n",
       " './Data/images/4223552117_888f8296fd.jpg, 98,57,436,307,0 \\n',\n",
       " './Data/images/4116943184_c689b8a0dc.jpg, 136,140,343,293,0 \\n',\n",
       " './Data/images/slow-cooker-mac-cheese-26-600.jpg, 87,8,567,282,0 \\n',\n",
       " './Data/images/856725503_8a8c72a412.jpg, 77,106,416,345,0 \\n',\n",
       " './Data/images/instant-mac-cheese.jpg, 138,77,425,376,0 \\n',\n",
       " './Data/images/Pumpkin_Mac_and_Cheese_Square_full.jpg, 107,107,411,264,0 \\n',\n",
       " './Data/images/3540990880_f6c59b11ac.jpg, 133,21,439,332,0 \\n',\n",
       " './Data/images/183381595.jpg, 95,58,339,213,0 \\n',\n",
       " './Data/images/225334988_e03f7fe841.jpg, 92,152,367,342,0 \\n',\n",
       " './Data/images/2055218911_928dbeeffe.jpg, 6,37,404,375,0 \\n',\n",
       " './Data/images/3330-1.jpg, 116,28,403,210,0 \\n',\n",
       " './Data/images/3419625407_06f7d9852b.jpg, 39,80,459,236,0 \\n',\n",
       " './Data/images/KFC%20Macaroni%20and%20Cheese.jpg, 5,28,336,215,0 \\n',\n",
       " './Data/images/copycat-panera-mac-and-cheese-2.jpg, 112,300,692,676,0 \\n',\n",
       " './Data/images/2717733730_9802848175.jpg, 4,58,313,347,0 \\n',\n",
       " './Data/images/3448533367_097dc338a0.jpg, 131,1,490,247,0 \\n',\n",
       " './Data/images/masdfasfsacaroni-and-cheese.jpg, 1,49,372,301,0 \\n',\n",
       " './Data/images/3088081360_205a0e8b1b.jpg, 82,47,361,293,0 \\n',\n",
       " './Data/images/shells_and_cheese_1.jpg, 16,18,412,237,0 \\n',\n",
       " './Data/images/One-pot-Creamy-Shells-and-Cheese-Taco-Maco.jpg, 170,69,491,380,0 \\n',\n",
       " './Data/images/2766319850_b4f2acae04.jpg, 61,96,500,374,0 \\n',\n",
       " './Data/images/macasfsfasaroni_and_cheese.jpg, 127,133,279,226,0 \\n',\n",
       " './Data/images/3057139983_dbd0e9656d.jpg, 136,209,361,352,0 \\n',\n",
       " './Data/images/347454191_a7c008cbf4.jpg, 49,107,344,404,0 \\n',\n",
       " './Data/images/rice-cooker-mac-and-cheese-with-ham-featured-450x450.jpg, 1,46,353,305,0 \\n',\n",
       " './Data/images/3412562474_ba8d3a8eb4.jpg, 74,3,472,344,0 \\n',\n",
       " './Data/images/8zK38q8BS32Ag1Fxk5bT_crockpot%20mac%20and%20cheese%20%283%20of%204%29.jpg, 145,92,476,333,0 \\n',\n",
       " './Data/images/1533281537_cc9f8fd200.jpg, 109,250,359,480,0 \\n',\n",
       " './Data/images/Broccoli-Shells-and-Cheese-fork.jpg, 34,58,756,541,0 \\n',\n",
       " './Data/images/1308097031_bf968f5ea9.jpg, 1,114,350,320,0 \\n',\n",
       " './Data/images/1433575121_2357315e45.jpg, 41,96,357,319,0 \\n',\n",
       " './Data/images/2140081397_9e0bcd6fd3.jpg, 192,73,390,288,0 \\n',\n",
       " './Data/images/shells-and-cheese.jpg, 45,108,880,591,0 \\n',\n",
       " './Data/images/shells_and_cheese_azm9zn.jpg, 196,58,537,358,0 \\n',\n",
       " './Data/images/7a81fab96a5d8e207e2ea9286edf5b3a.jpg, 165,125,480,319,0 \\n',\n",
       " './Data/images/MAC-CHEESE_zpse7f7e8d6.jpg, 296,130,530,273,0 \\n',\n",
       " './Data/images/3605201776_cbf59d62c2.jpg, 247,36,500,210,0 \\n',\n",
       " './Data/images/21334b09-910f-4578-ba9f-e49f953447e1.jpg, 157,96,681,335,0 \\n',\n",
       " './Data/images/1822299888_b79ff78c3e.jpg, 1,1,402,252,0 \\n',\n",
       " './Data/images/images.jpg, 23,18,228,102,0 \\n',\n",
       " './Data/images/maasdfasfscaroni-and-cheese.jpg, 150,53,415,242,0 \\n',\n",
       " './Data/images/DSC_0368-1024x685.jpg, 237,78,945,500,0 \\n',\n",
       " './Data/images/Macaroni-and-casdfasfsaheese.jpg, 47,87,268,192,0 \\n',\n",
       " './Data/images/mac-cheese-3.jpg, 15,164,669,676,0 \\n',\n",
       " './Data/images/Instant-Pot-Meatless-Monday-Best-Ever-Macaroni-Cheese.jpg, 121,174,1000,649,0 \\n',\n",
       " './Data/images/3871372110_f467b9c0b5.jpg, 177,58,384,205,0 \\n',\n",
       " './Data/images/macaronicheesemug.jpg, 13,49,589,455,0 \\n',\n",
       " './Data/images/macaroni-cheese-17959445.jpg, 1,58,258,249,0 \\n',\n",
       " './Data/images/mac_csafheese.jpg, 48,78,443,388,0 \\n',\n",
       " './Data/images/3719167751_ff1691239c.jpg, 16,57,488,348,0 \\n',\n",
       " './Data/images/slow-cooker-mac-cheese-1.jpg, 117,68,461,313,0 \\n',\n",
       " './Data/images/1857474341_266db93e10.jpg, 61,83,420,321,0 \\n',\n",
       " './Data/images/3856722940_71d6a650ea.jpg, 120,17,498,229,0 \\n',\n",
       " './Data/images/4198067551_9dffd546c0.jpg, 113,73,426,291,0 \\n',\n",
       " './Data/images/745321781_722417c591.jpg, 167,162,384,254,0 \\n',\n",
       " './Data/images/mac_cheese.jpg, 40,81,445,384,0 \\n',\n",
       " './Data/images/Homemade-One-Pot-Stovetop-Macaroni-and-Cheese-Cooked-in-Milk-by-Five-Heart-Home_700pxTitle1.jpg, 116,241,700,737,0 \\n',\n",
       " './Data/images/2353762154_554c656a0d.jpg, 4,19,498,339,0 \\n',\n",
       " './Data/images/Stovetop-Butternut-Squash-Shells-and-Cheese-300x300.jpg, 81,73,300,244,0 \\n',\n",
       " './Data/images/2818714181_08ca544c02.jpg, 182,41,500,362,0 \\n',\n",
       " './Data/images/macaroni-cheese-23595283.jpg, 39,62,269,306,0 \\n',\n",
       " './Data/images/2188374941_3dab28deb8.jpg, 69,42,394,323,0 \\n',\n",
       " './Data/images/large_1238130420.jpg, 104,56,367,233,0 \\n',\n",
       " './Data/images/Slow%20Cooker%20Macaroni%20and%20Cheese.jpg, 2,167,426,483,0 \\n',\n",
       " './Data/images/2954529837_ce356cfb18.jpg, 1,6,460,333,0 \\n',\n",
       " './Data/images/gluten-free_mac_n_cheese.jpg, 76,102,434,353,0 \\n',\n",
       " './Data/images/4148574215_672f96118e.jpg, 31,115,446,291,0 \\n',\n",
       " './Data/images/245078954_87c68b3a96.jpg, 14,281,228,428,0 \\n',\n",
       " './Data/images/3304945663_bcd8f65eba.jpg, 46,274,264,474,0 \\n',\n",
       " './Data/images/0185982_630x355.jpg, 74,80,415,301,0 \\n',\n",
       " './Data/images/White-Cheddar-Pasta-Shells.jpg, 1,67,537,349,0 \\n',\n",
       " './Data/images/2419092593_d65e7a3be1.jpg, 13,18,426,214,0 \\n',\n",
       " './Data/images/4130931018_03f009df62.jpg, 64,57,418,331,0 \\n',\n",
       " './Data/images/Stovetop-Mac-N-Cheese.jpg, 1,83,375,345,0 \\n',\n",
       " './Data/images/Gluten%20Free%20Macaroni%20and%20cheese%20recipe.jpg, 11,65,246,204,0 \\n',\n",
       " './Data/images/maasdfasfsacaroni-and-cheese.jpg, 144,51,415,244,0 \\n',\n",
       " './Data/images/2-mac-cheese.jpg, 62,57,433,283,0 \\n',\n",
       " './Data/images/3420434144_92f9882243.jpg, 51,82,479,233,0 \\n',\n",
       " './Data/images/2601915049_b60551e8e1.jpg, 94,88,362,280,0 \\n',\n",
       " './Data/images/3326310350_31bced12f2.jpg, 10,108,379,392,0 \\n',\n",
       " './Data/images/3084114272_4aa0ac83c8.jpg, 282,83,500,332,0 \\n',\n",
       " './Data/images/497275589_6122445b93.jpg, 136,148,336,350,0 \\n',\n",
       " './Data/images/Pumpin-Macaroni.jpg, 39,60,502,529,0 \\n',\n",
       " './Data/images/3241451461_524cb9250a.jpg, 113,58,426,262,0 \\n',\n",
       " './Data/images/SomethingEdible-Stove_Top_One_Pot_Macaroni_and_Cheese06.jpg, 141,94,587,454,0 \\n',\n",
       " './Data/images/3696283549_76e0d222b3.jpg, 54,161,384,359,0 \\n',\n",
       " './Data/images/4021474273_1c384cdfbe.jpg, 25,274,339,448,0 \\n',\n",
       " './Data/images/aid118052-v4-728px-Make-Creamy-Mac-N-Cheese-Step-9.jpg, 102,134,613,487,0 \\n',\n",
       " './Data/images/DSC05307.jpg, 110,156,461,354,0 \\n',\n",
       " './Data/images/Bistro-Mac---Cheese_exps47665_SD143203C10_24_5bC_RMS.jpg, 71,122,1084,829,0 \\n',\n",
       " './Data/images/1479184790-macaroni-and-cheese-caf-world-wiki-cookbook-recipes-gifts-and-ii6uiq-clipart.jpg, 51,69,279,194,0 \\n',\n",
       " './Data/images/8665133_f520%202.jpg, 68,47,379,331,0 \\n',\n",
       " './Data/images/maccheesefry4.jpg, 43,122,320,341,0 \\n',\n",
       " './Data/images/th.jpg, 37,72,246,166,0 \\n',\n",
       " './Data/images/mac-n-cheedafsafafse.jpg, 47,56,408,246,0 \\n',\n",
       " './Data/images/0ShAyPFRqBeO60QkYN7w_Mac%20Cheese%202.jpg, 155,9,565,313,0 \\n',\n",
       " './Data/images/2434969347_849f697be1.jpg, 16,42,418,306,0 \\n',\n",
       " './Data/images/4051761918_96cff046d0.jpg, 53,51,228,272,0 \\n',\n",
       " './Data/images/MAcCheeseCD-640x360.jpg, 66,18,513,273,0 \\n',\n",
       " './Data/images/macaroni-and-cheese-ring-600x450.jpg, 203,66,404,172,0 \\n',\n",
       " './Data/images/DSC_0261-1024x685.jpg, 91,115,962,571,0 \\n',\n",
       " './Data/images/2970868575_b64cc734da.jpg, 43,1,339,149,0 \\n',\n",
       " './Data/images/ss_R130854.jpg, 44,97,296,254,0 \\n',\n",
       " './Data/images/creamy-macaroni-and-cheese-recipe_16801.jpg, 1,255,800,747,0 \\n',\n",
       " './Data/images/velveetashellsandcheese.jpg, 167,169,795,527,0 \\n',\n",
       " './Data/images/3343412742_86e2ec0558.jpg, 38,83,378,313,0 \\n',\n",
       " './Data/images/c17777058e3a5a7abc173063eae1129d--homemade-macaroni-cheese-mac-cheese.jpg, 1,52,368,304,0 \\n',\n",
       " './Data/images/29515lrg.jpg, 30,147,370,309,0, 2,1,138,126,0 \\n',\n",
       " './Data/images/52089_640x428.jpg, 123,52,529,299,0 \\n',\n",
       " './Data/images/1415761812945.jpg, 104,25,508,423,0 \\n']"
      ]
     },
     "execution_count": 95,
     "metadata": {},
     "output_type": "execute_result"
    }
   ],
   "source": [
    "lines"
   ]
  },
  {
   "cell_type": "code",
   "execution_count": null,
   "metadata": {},
   "outputs": [],
   "source": []
  }
 ],
 "metadata": {
  "kernelspec": {
   "display_name": "Python 3",
   "language": "python",
   "name": "python3"
  },
  "language_info": {
   "codemirror_mode": {
    "name": "ipython",
    "version": 3
   },
   "file_extension": ".py",
   "mimetype": "text/x-python",
   "name": "python",
   "nbconvert_exporter": "python",
   "pygments_lexer": "ipython3",
   "version": "3.6.4"
  }
 },
 "nbformat": 4,
 "nbformat_minor": 2
}
