{
 "cells": [
  {
   "cell_type": "code",
   "execution_count": 1,
   "metadata": {},
   "outputs": [],
   "source": [
    "from utils import train_test_split, get_anchors\n",
    "import numpy as np"
   ]
  },
  {
   "cell_type": "code",
   "execution_count": null,
   "metadata": {},
   "outputs": [],
   "source": []
  },
  {
   "cell_type": "code",
   "execution_count": 2,
   "metadata": {},
   "outputs": [
    {
     "data": {
      "text/plain": [
       "((123,), (31,))"
      ]
     },
     "execution_count": 2,
     "metadata": {},
     "output_type": "execute_result"
    }
   ],
   "source": [
    "path = './data.txt'\n",
    "split = 0.8\n",
    "train, val = train_test_split(path, split)\n",
    "train.shape, val.shape"
   ]
  },
  {
   "cell_type": "code",
   "execution_count": 7,
   "metadata": {},
   "outputs": [
    {
     "data": {
      "text/plain": [
       "array([[ 7,  5],\n",
       "       [10,  7],\n",
       "       [13,  7],\n",
       "       [13, 10],\n",
       "       [18, 11],\n",
       "       [18, 17],\n",
       "       [25, 14],\n",
       "       [33, 24],\n",
       "       [41, 43]])"
      ]
     },
     "execution_count": 7,
     "metadata": {},
     "output_type": "execute_result"
    }
   ],
   "source": [
    "anchors = get_anchors(path, num_anchors=9)\n",
    "anchors"
   ]
  },
  {
   "cell_type": "code",
   "execution_count": 10,
   "metadata": {},
   "outputs": [
    {
     "data": {
      "text/plain": [
       "array(['./Data/images/745321781_722417c591.jpg, 167,162,384,254,0 \\n',\n",
       "       './Data/images/mac-and-cheese.jpg, 26,263,572,797,0 \\n',\n",
       "       './Data/images/2353762154_554c656a0d.jpg, 4,19,498,339,0 \\n',\n",
       "       './Data/images/4148574215_672f96118e.jpg, 31,115,446,291,0 \\n',\n",
       "       './Data/images/images.jpg, 23,18,228,102,0 \\n'],\n",
       "      dtype='<U124')"
      ]
     },
     "execution_count": 10,
     "metadata": {},
     "output_type": "execute_result"
    }
   ],
   "source": [
    "train[:5]"
   ]
  },
  {
   "cell_type": "code",
   "execution_count": null,
   "metadata": {},
   "outputs": [],
   "source": []
  },
  {
   "cell_type": "code",
   "execution_count": null,
   "metadata": {},
   "outputs": [],
   "source": []
  }
 ],
 "metadata": {
  "kernelspec": {
   "display_name": "Python 3",
   "language": "python",
   "name": "python3"
  },
  "language_info": {
   "codemirror_mode": {
    "name": "ipython",
    "version": 3
   },
   "file_extension": ".py",
   "mimetype": "text/x-python",
   "name": "python",
   "nbconvert_exporter": "python",
   "pygments_lexer": "ipython3",
   "version": "3.6.4"
  }
 },
 "nbformat": 4,
 "nbformat_minor": 2
}
